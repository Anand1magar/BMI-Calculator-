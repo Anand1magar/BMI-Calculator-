{
  "nbformat": 4,
  "nbformat_minor": 0,
  "metadata": {
    "colab": {
      "name": "Skillshare-DL [KENWAY].ipynb",
      "provenance": [],
      "collapsed_sections": [],
      "toc_visible": true,
      "include_colab_link": true
    },
    "kernelspec": {
      "name": "python3",
      "display_name": "Python 3"
    },
    "accelerator": "GPU",
    "widgets": {
      "application/vnd.jupyter.widget-state+json": {
        "3de7c70fddad4620a1229858d616ba09": {
          "model_module": "@jupyter-widgets/controls",
          "model_name": "ButtonModel",
          "state": {
            "_view_name": "ButtonView",
            "style": "IPY_MODEL_c1f1a96222e5428bb1997365ae5d7dfb",
            "_dom_classes": [],
            "description": "Installing",
            "_model_name": "ButtonModel",
            "button_style": "warning",
            "_view_module": "@jupyter-widgets/controls",
            "_model_module_version": "1.5.0",
            "tooltip": "Installing",
            "_view_count": null,
            "disabled": true,
            "_view_module_version": "1.5.0",
            "layout": "IPY_MODEL_143e5415f4e24cd5ad7d9895c80c6f4b",
            "_model_module": "@jupyter-widgets/controls",
            "icon": "check"
          }
        },
        "c1f1a96222e5428bb1997365ae5d7dfb": {
          "model_module": "@jupyter-widgets/controls",
          "model_name": "ButtonStyleModel",
          "state": {
            "_view_name": "StyleView",
            "_model_name": "ButtonStyleModel",
            "_view_module": "@jupyter-widgets/base",
            "_model_module_version": "1.5.0",
            "_view_count": null,
            "button_color": null,
            "font_weight": "",
            "_view_module_version": "1.2.0",
            "_model_module": "@jupyter-widgets/controls"
          }
        },
        "143e5415f4e24cd5ad7d9895c80c6f4b": {
          "model_module": "@jupyter-widgets/base",
          "model_name": "LayoutModel",
          "state": {
            "_view_name": "LayoutView",
            "grid_template_rows": null,
            "right": null,
            "justify_content": null,
            "_view_module": "@jupyter-widgets/base",
            "overflow": null,
            "_model_module_version": "1.2.0",
            "_view_count": null,
            "flex_flow": null,
            "width": null,
            "min_width": null,
            "border": null,
            "align_items": null,
            "bottom": null,
            "_model_module": "@jupyter-widgets/base",
            "top": null,
            "grid_column": null,
            "overflow_y": null,
            "overflow_x": null,
            "grid_auto_flow": null,
            "grid_area": null,
            "grid_template_columns": null,
            "flex": null,
            "_model_name": "LayoutModel",
            "justify_items": null,
            "grid_row": null,
            "max_height": null,
            "align_content": null,
            "visibility": null,
            "align_self": null,
            "height": null,
            "min_height": null,
            "padding": null,
            "grid_auto_rows": null,
            "grid_gap": null,
            "max_width": null,
            "order": null,
            "_view_module_version": "1.2.0",
            "grid_template_areas": null,
            "object_position": null,
            "object_fit": null,
            "grid_auto_columns": null,
            "margin": null,
            "display": null,
            "left": null
          }
        }
      }
    }
  },
  "cells": [
    {
      "cell_type": "markdown",
      "metadata": {
        "id": "view-in-github",
        "colab_type": "text"
      },
      "source": [
        "<a href=\"https://colab.research.google.com/github/Anand1magar/BMI-Calculator-/blob/master/Skillshare_DL_%5BKENWAY%5D.ipynb\" target=\"_parent\"><img src=\"https://colab.research.google.com/assets/colab-badge.svg\" alt=\"Open In Colab\"/></a>"
      ]
    },
    {
      "cell_type": "code",
      "metadata": {
        "id": "tTVkURopsAxH",
        "cellView": "form",
        "colab": {
          "base_uri": "https://localhost:8080/"
        },
        "outputId": "0cfe9ef2-68c2-4218-e672-63920e6cbb96"
      },
      "source": [
        "#@markdown <h3>⬅ Run This Cell to  Mount Gdrive\n",
        "from google.colab import drive\n",
        "drive.mount('/content/drive')"
      ],
      "execution_count": 1,
      "outputs": [
        {
          "output_type": "stream",
          "text": [
            "Mounted at /content/drive\n"
          ],
          "name": "stdout"
        }
      ]
    },
    {
      "cell_type": "markdown",
      "metadata": {
        "id": "oy6NiZ-mhVFX"
      },
      "source": [
        "# <img src='https://i.imgur.com/ZLv9ul7.jpg' height=\"60\" alt=\"RcloneLab\"/>"
      ]
    },
    {
      "cell_type": "code",
      "metadata": {
        "id": "xunEYHutBEv_",
        "cellView": "form",
        "colab": {
          "base_uri": "https://localhost:8080/",
          "height": 81,
          "referenced_widgets": [
            "3de7c70fddad4620a1229858d616ba09",
            "c1f1a96222e5428bb1997365ae5d7dfb",
            "143e5415f4e24cd5ad7d9895c80c6f4b"
          ]
        },
        "outputId": "8af86df7-6893-482c-b707-8a0eb437a21f"
      },
      "source": [
        "#@markdown <h3>⬅️ Run This Cell to Install Skillshare-DL Requirements</h3>\n",
        "import random, string, urllib.request, json, getpass, os, IPython, uuid\n",
        "import ipywidgets as widgets\n",
        "\n",
        "from IPython.display import HTML, clear_output\n",
        "\n",
        "loadingBtn = widgets.Button(description = \"Installing\",\n",
        "                          disabled = True,\n",
        "                          button_style = 'warning', # 'success', 'info', 'warning', 'danger' or '' \n",
        "                          tooltip = \"Installing\",\n",
        "                          icon = 'check')\n",
        "display(loadingBtn)\n",
        "\n",
        "if not os.path.exists(\"/opt/python3.7\"):\n",
        "  get_ipython().system_raw(\"rm -rf /content/sample_data/ && sudo apt update && sudo apt install software-properties-common\")\n",
        "  get_ipython().system_raw(\"sudo add-apt-repository ppa:deadsnakes/ppa\")\n",
        "  get_ipython().system_raw(\"sudo apt install python3.7\")\n",
        "  get_ipython().system_raw(\"sudo apt install python3-pip\")\n",
        "  get_ipython().system_raw(\"python3.7 -m pip install --upgrade pip setuptools wheel\")\n",
        "  get_ipython().system_raw(\"git clone https://github.com/calvinhobbes23/Skillshare-DL.git /root/.Skillshare-DL\")\n",
        "  get_ipython().system_raw(\"rm -r /root/.Skillshare-DL/Skillshare_DL_[KENWAY].ipynb\")\n",
        "  clear_output()\n",
        "\n",
        "try:\n",
        "  get_ipython().system_raw(\"python3.7 -m pip -q install -r /root/.Skillshare-DL/requirements.txt\")\n",
        "  display(HTML(\"<center><h2 style=\\\"font-family:Trebuchet MS;color:#4f8bd6;\\\">Successfully Configured!</h2><br></center>\"))\n",
        "  \n",
        "except:\n",
        "  display(HTML(\"<center><h2 style=\\\"font-family:Trebuchet MS;color:#ff0000;\\\">Error Occured, Rerun the Cell!!</h2><br></center>\"))"
      ],
      "execution_count": 2,
      "outputs": [
        {
          "output_type": "display_data",
          "data": {
            "text/html": [
              "<center><h2 style=\"font-family:Trebuchet MS;color:#4f8bd6;\">Successfully Configured!</h2><br></center>"
            ],
            "text/plain": [
              "<IPython.core.display.HTML object>"
            ]
          },
          "metadata": {
            "tags": []
          }
        }
      ]
    },
    {
      "cell_type": "code",
      "metadata": {
        "id": "GMcXn3WTIYfo",
        "cellView": "form",
        "colab": {
          "base_uri": "https://localhost:8080/"
        },
        "outputId": "e11f0c2c-cfb2-4ba0-9566-93a32d3a2fc3"
      },
      "source": [
        "#@markdown <h3>⬅️ Run this Cell to Download Skillshare Course</h3>\n",
        "Course_Link = \"https://www.skillshare.com/classes/Master-Audio-Editing-In-Premiere-Pro/292284873/projects\" #@param {type:\"string\"}\n",
        "!python3.7 /root/.Skillshare-DL/dl.py \"$Course_Link\""
      ],
      "execution_count": 4,
      "outputs": [
        {
          "output_type": "stream",
          "text": [
            "   \n",
            "                 ____  _    _ _ _     _                          ____  _     \n",
            "                / ___|| | _(_) | |___| |__   __ _ _ __ ___      |  _ \\| |    \n",
            "                \\___ \\| |/ / | | / __| '_ \\ / _` | '__/ _ \\_____| | | | |    \n",
            "                 ___) |   <| | | \\__ \\ | | | (_| | | |  __/_____| |_| | |___ \n",
            "                |____/|_|\\_\\_|_|_|___/_| |_|\\__,_|_|  \\___|     |____/|_____|  \n",
            "                     _ __ ___  _ _  _ _ _  ___  _ _ \n",
            "                    | / /| __>| \\ || | | || . || | |\n",
            "                    |  \\ | _> |   || | | ||   |\\   /\n",
            "                    |_\\_\\|___>|_\\_||__/_/ |_|_| |_| \n",
            "\n",
            "                Visit Us for more Cool Stuff: https://blackpearl.biz/\n",
            "\n",
            "                \n",
            "Downloading /content/Skillshare/reversecuts/master-audio-editing-in-premiere-pro/01 - promotional-video.mp4...\n",
            "[==================================================]\n",
            "\n",
            "Downloading /content/Skillshare/reversecuts/master-audio-editing-in-premiere-pro/02 - meet-me-this-course.mp4...\n",
            "[==================================================]\n",
            "\n",
            "Downloading /content/Skillshare/reversecuts/master-audio-editing-in-premiere-pro/03 - lets-go-over-some-basics-first.mp4...\n",
            "[==================================================]\n",
            "\n",
            "Downloading /content/Skillshare/reversecuts/master-audio-editing-in-premiere-pro/04 - removing-noise-from-your-audio.mp4...\n",
            "[==================================================]\n",
            "\n",
            "Downloading /content/Skillshare/reversecuts/master-audio-editing-in-premiere-pro/05 - normalize-your-audio-with-parametric-eq.mp4...\n",
            "[==================================================]\n",
            "\n",
            "Downloading /content/Skillshare/reversecuts/master-audio-editing-in-premiere-pro/06 - giving-your-audio-a-normal-tone.mp4...\n",
            "[==================================================]\n",
            "\n",
            "Downloading /content/Skillshare/reversecuts/master-audio-editing-in-premiere-pro/07 - getting-a-cinematic-sound-with-a-loudness-maximizer.mp4...\n",
            "[==================================================]\n",
            "\n",
            "Downloading /content/Skillshare/reversecuts/master-audio-editing-in-premiere-pro/08 - lower-sibilants-in-your-audio.mp4...\n",
            "[==================================================]\n",
            "\n",
            "Downloading /content/Skillshare/reversecuts/master-audio-editing-in-premiere-pro/09 - setting-your-audio-loudness.mp4...\n",
            "[==================================================]\n",
            "\n",
            "Downloading /content/Skillshare/reversecuts/master-audio-editing-in-premiere-pro/10 - polishing-your-audio-with-an-advanced-multiband-compressor.mp4...\n",
            "[==================================================]\n",
            "\n",
            "Downloading /content/Skillshare/reversecuts/master-audio-editing-in-premiere-pro/11 - learn-how-to-create-a-bass-boost.mp4...\n",
            "[==================================================]\n",
            "\n",
            "Downloading /content/Skillshare/reversecuts/master-audio-editing-in-premiere-pro/12 - learn-how-to-create-an-echo-reverb-effect.mp4...\n",
            "[==================================================]\n",
            "\n",
            "Downloading /content/Skillshare/reversecuts/master-audio-editing-in-premiere-pro/13 - learn-how-to-create-an-underwater-muffle-effect.mp4...\n",
            "[==================================================]\n",
            "\n",
            "Downloading /content/Skillshare/reversecuts/master-audio-editing-in-premiere-pro/14 - best-export-settings-for-your-audio.mp4...\n",
            "[==================================================]\n",
            "\n",
            "Downloading /content/Skillshare/reversecuts/master-audio-editing-in-premiere-pro/15 - what-after-this-course.mp4...\n",
            "[==================================================]\n",
            "\n"
          ],
          "name": "stdout"
        }
      ]
    },
    {
      "cell_type": "code",
      "metadata": {
        "id": "W4DvOJaqsGaj",
        "cellView": "form",
        "colab": {
          "base_uri": "https://localhost:8080/"
        },
        "outputId": "3e9648a1-8ada-4f22-dade-52c333cb1e3b"
      },
      "source": [
        "#@markdown <h3>⬅️ Run This Cell to  Move Downloaded Courses to Gdrive\n",
        "!mv /content/Skillshare \"/content/drive/My Drive/Skillshare-DL\""
      ],
      "execution_count": 7,
      "outputs": [
        {
          "output_type": "stream",
          "text": [
            "mv: cannot stat '/content/Skillshare': No such file or directory\n"
          ],
          "name": "stdout"
        }
      ]
    }
  ]
}